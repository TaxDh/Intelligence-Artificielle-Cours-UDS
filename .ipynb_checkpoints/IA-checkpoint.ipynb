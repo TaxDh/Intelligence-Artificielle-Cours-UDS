{
 "cells": [
  {
   "cell_type": "markdown",
   "metadata": {},
   "source": [
    "# Intelligence Artificielle"
   ]
  },
  {
   "cell_type": "markdown",
   "metadata": {},
   "source": [
    "## 1.2 Définitions Agents Intelligent"
   ]
  },
  {
   "cell_type": "markdown",
   "metadata": {},
   "source": [
    "* Un agent est une entité qui perçoit son environnement par des **capteurs** (*sensors*) et agit sur cet environnement par des actionneurs (actuators)\n",
    "* Un agent humain a:\n",
    "  * des yeux, des oreilles, et d'autres senseurs\n",
    "  *  des mains, des jambes, une bouche et d'autres actionneurs"
   ]
  },
  {
   "cell_type": "markdown",
   "metadata": {},
   "source": [
    "### Agents et environnements"
   ]
  },
  {
   "cell_type": "markdown",
   "metadata": {},
   "source": [
    "* Le **processus agent** f prend en entrée une séquence d'**observations** (*percepts*) et retourne une **action**:\n",
    "$$ f: P^* \\longrightarrow A$$\n",
    "* En pratique, le processus est un implémenté par un programme sur une architecture matérielle particulière."
   ]
  },
  {
   "cell_type": "markdown",
   "metadata": {},
   "source": [
    "### Ébauche d'un agent"
   ]
  },
  {
   "cell_type": "markdown",
   "metadata": {},
   "source": [
    "**function** SKELETON-AGENT (*percepts*) return action\n",
    "    static memory, the agent's memeory of the world\n",
    "    \n",
    "    memory <-- UPDATE-MEMORY(*memory*, *percept)\n",
    "    action <-- CHOOSE-BEST-ACTION (*memory*)\n",
    "    memory <-- UPDATE-MEMORY (*memory*, *action*)\n",
    "    return action"
   ]
  },
  {
   "cell_type": "code",
   "execution_count": null,
   "metadata": {
    "collapsed": true
   },
   "outputs": [],
   "source": []
  }
 ],
 "metadata": {
  "kernelspec": {
   "display_name": "Python 3",
   "language": "python",
   "name": "python3"
  },
  "language_info": {
   "codemirror_mode": {
    "name": "ipython",
    "version": 3
   },
   "file_extension": ".py",
   "mimetype": "text/x-python",
   "name": "python",
   "nbconvert_exporter": "python",
   "pygments_lexer": "ipython3",
   "version": "3.6.1"
  }
 },
 "nbformat": 4,
 "nbformat_minor": 2
}
