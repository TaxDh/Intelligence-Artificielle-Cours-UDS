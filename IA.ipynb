{
 "cells": [
  {
   "cell_type": "markdown",
   "metadata": {},
   "source": [
    "# Intelligence Artificielle"
   ]
  },
  {
   "cell_type": "markdown",
   "metadata": {},
   "source": [
    "## 1.2 Définitions Agents Intelligent"
   ]
  },
  {
   "cell_type": "markdown",
   "metadata": {},
   "source": [
    "* Un agent est une entité qui perçoit son environnement par des **capteurs** (*sensors*) et agit sur cet environnement par des actionneurs (actuators)\n",
    "* Un agent humain a:\n",
    "  * des yeux, des oreilles, et d'autres senseurs\n",
    "  *  des mains, des jambes, une bouche et d'autres actionneurs"
   ]
  },
  {
   "cell_type": "markdown",
   "metadata": {},
   "source": [
    "### Agents et environnements"
   ]
  },
  {
   "cell_type": "markdown",
   "metadata": {},
   "source": [
    "* Le **processus agent** f prend en entrée une séquence d'**observations** (*percepts*) et retourne une **action**:\n",
    "$$ f: P^* \\longrightarrow A$$\n",
    "* En pratique, le processus est un implémenté par un programme sur une architecture matérielle particulière."
   ]
  },
  {
   "cell_type": "markdown",
   "metadata": {},
   "source": [
    "### Ébauche d'un agent"
   ]
  },
  {
   "cell_type": "markdown",
   "metadata": {},
   "source": [
    "**function** SKELETON-AGENT (*percepts*) return action\n",
    "    static memory, the agent's memeory of the world\n",
    "    \n",
    "    memory <-- UPDATE-MEMORY(*memory*, *percept)\n",
    "    action <-- CHOOSE-BEST-ACTION (*memory*)\n",
    "    memory <-- UPDATE-MEMORY (*memory*, *action*)\n",
    "    return action"
   ]
  },
  {
   "cell_type": "markdown",
   "metadata": {},
   "source": [
    "### Agents rationnels"
   ]
  },
  {
   "cell_type": "markdown",
   "metadata": {},
   "source": [
    "* Un agent rationnel doit agir \"correctement\" en fonction de ce qu'il perçoit et de ses capacités d'action:\n",
    "  * l'**action correcte** est celle permettant à l'agent de réussir le mieux"
   ]
  },
  {
   "cell_type": "markdown",
   "metadata": {},
   "source": [
    "* **Mesure de performence** :\n",
    "  * une fonction objective mesurant la qualité d'un comportement de l'agent\n"
   ]
  },
  {
   "cell_type": "markdown",
   "metadata": {},
   "source": [
    "* Par exemple, une mesure de performance pour le robot pourrait être :\n",
    "  * la quantité de déchets aspirés\n",
    "  * la propreté des lieux\n",
    "  * la durée de la tâche\n",
    "  * le bruit généré\n"
   ]
  },
  {
   "cell_type": "markdown",
   "metadata": {},
   "source": [
    "* **Agent rationnel**: étant donnée une séquence d'observations (données sensorielles) et des connaissances propres, un agent rationnel devrait **choisir une action qui maximise la mesure de performance**"
   ]
  },
  {
   "cell_type": "markdown",
   "metadata": {},
   "source": [
    "* **Rationalité ne veut pas dire \"qui sait tout\"**"
   ]
  },
  {
   "cell_type": "markdown",
   "metadata": {},
   "source": [
    "* **Rationnel ne veut pas dire \"parfait\"**\n",
    "  * la rationalité maximise la performance espérée\n",
    "  * la perfection maximise la performance réelle/actuelle\n",
    "  * mais souvent on ne peut pas connaître la performance réelle avant l'action"
   ]
  },
  {
   "cell_type": "markdown",
   "metadata": {},
   "source": [
    "* Un agent peut effectuer des actions d'observation pour cueillir des informations nécessaires à sa tâche"
   ]
  },
  {
   "cell_type": "markdown",
   "metadata": {},
   "source": [
    "* Un agent est **autonome** s'il est capable d'adapter son comportement en fonction de son expérience (capacité d'apprentissage et d'adaptation)"
   ]
  },
  {
   "cell_type": "markdown",
   "metadata": {},
   "source": [
    "### Modèle PEAS"
   ]
  },
  {
   "cell_type": "markdown",
   "metadata": {},
   "source": [
    "* PEAS: Un modèle de conception des agents par la spécification des composantes majeures suivantes:\n",
    "\n",
    "  * mesure de performance (**P**erformance)\n",
    "  * élément de l'environnement (**E**nvironnement)\n",
    "  * les actions que l'agent peut effectuer (Actionneurs ou **A**ctuators)\n",
    "  * la séquence des observations ou percepts de l'agent(Capteur ou **S**ensors)"
   ]
  },
  {
   "cell_type": "markdown",
   "metadata": {},
   "source": [
    "### Modèle PEAS pour un robot taxi"
   ]
  },
  {
   "cell_type": "markdown",
   "metadata": {},
   "source": [
    "* **Agent**: robot taxi\n",
    "\n",
    "* **Mesure de performance**: sécurité, vitesse, respect du code routier, voyage confortable, maximisation des profits\n",
    "\n",
    "* **Environnement**: route, trafic, piétons, clients\n",
    "\n",
    "* **Actionneurs**: volant, changement de vitesse, accélérateur, frein, clignotants, klaxon\n",
    "\n",
    "* ** Senseurs**: caméras, sonar, compteur de vitesse, GPS, odomètre, témoins du moteur, etc."
   ]
  },
  {
   "cell_type": "markdown",
   "metadata": {},
   "source": []
  }
 ],
 "metadata": {
  "kernelspec": {
   "display_name": "Python 3",
   "language": "python",
   "name": "python3"
  },
  "language_info": {
   "codemirror_mode": {
    "name": "ipython",
    "version": 3
   },
   "file_extension": ".py",
   "mimetype": "text/x-python",
   "name": "python",
   "nbconvert_exporter": "python",
   "pygments_lexer": "ipython3",
   "version": "3.6.1"
  }
 },
 "nbformat": 4,
 "nbformat_minor": 2
}
